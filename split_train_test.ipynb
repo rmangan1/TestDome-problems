{
 "cells": [
  {
   "cell_type": "code",
   "execution_count": 1,
   "metadata": {},
   "outputs": [
    {
     "name": "stdout",
     "output_type": "stream",
     "text": [
      "DataFrame with feature added:\n",
      "              datetime  hit   mean_hr\n",
      "0  2018-06-14 05:54:22    1       NaN\n",
      "1  2018-06-14 06:54:15    0  1.000000\n",
      "2  2018-06-14 08:38:07    0  0.500000\n",
      "3  2018-06-14 08:50:04    0  0.333333\n",
      "4  2018-06-14 08:51:29    0  0.250000\n",
      "5  2018-06-14 10:20:37    1  0.200000\n",
      "6  2018-06-14 11:07:18    1  0.333333\n",
      "7  2018-06-14 11:20:51    0  0.428571\n",
      "8  2018-06-14 13:16:40    1  0.375000\n",
      "9  2018-06-14 16:09:29    0  0.444444\n",
      "10 2018-06-14 16:38:02    1  0.400000\n",
      "----------------------------------------\n",
      "Train and test split, showing df_train:\n",
      "             datetime  hit   mean_hr\n",
      "0 2018-06-14 05:54:22    1       NaN\n",
      "1 2018-06-14 06:54:15    0  1.000000\n",
      "2 2018-06-14 08:38:07    0  0.500000\n",
      "3 2018-06-14 08:50:04    0  0.333333\n",
      "4 2018-06-14 08:51:29    0  0.250000\n",
      "5 2018-06-14 10:20:37    1  0.200000\n",
      "6 2018-06-14 11:07:18    1  0.333333\n",
      "7 2018-06-14 11:20:51    0  0.428571\n"
     ]
    }
   ],
   "source": [
    "import numpy as np\n",
    "import pandas as pd\n",
    "from sklearn.model_selection import train_test_split\n",
    "from sklearn.model_selection import TimeSeriesSplit\n",
    "\n",
    "class Problem:\n",
    "\n",
    "    @staticmethod\n",
    "    def add_hr(df):\n",
    "        df = df.copy()\n",
    "        df.sort_values(by = 'datetime', inplace=True)\n",
    "        df['mean_hr'] = df['hit'].expanding().mean().shift(1)\n",
    "        return df\n",
    "    \n",
    "    @staticmethod\n",
    "    def split_train_test(df, p):\n",
    "        df.sort_values(by = 'datetime', inplace=True)\n",
    "        df_train, df_test = train_test_split(df, train_size = p, shuffle=False)\n",
    "        return df_train, df_test\n",
    "\n",
    "json_string = '{\"datetime\":{\"0\":1528955662000,\"1\":1528959255000,\"2\":1528965487000,\"3\":1528966204000,\"4\":1528966289000,\"5\":1528971637000,\"6\":1528974438000,\"7\":1528975251000,\"8\":1528982200000,\"9\":1528992569000,\"10\":1528994282000},\"hit\":{\"0\":1,\"1\":0,\"2\":0,\"3\":0,\"4\":0,\"5\":1,\"6\":1,\"7\":0,\"8\":1,\"9\":0,\"10\":1}}'\n",
    "df_rfqs = pd.read_json(json_string)\n",
    "df_feature = Problem.add_hr(df_rfqs)\n",
    "print(\"DataFrame with feature added:\")\n",
    "print(df_feature)\n",
    "print(\"-\"*40)\n",
    "print(\"Train and test split, showing df_train:\")\n",
    "df_train, df_test = Problem.split_train_test(df_feature, 0.8)\n",
    "print(df_train)"
   ]
  },
  {
   "cell_type": "code",
   "execution_count": null,
   "metadata": {},
   "outputs": [],
   "source": []
  }
 ],
 "metadata": {
  "kernelspec": {
   "display_name": "Python 3",
   "language": "python",
   "name": "python3"
  },
  "language_info": {
   "codemirror_mode": {
    "name": "ipython",
    "version": 3
   },
   "file_extension": ".py",
   "mimetype": "text/x-python",
   "name": "python",
   "nbconvert_exporter": "python",
   "pygments_lexer": "ipython3",
   "version": "3.7.3"
  }
 },
 "nbformat": 4,
 "nbformat_minor": 2
}
